{
 "cells": [
  {
   "cell_type": "code",
   "execution_count": 1,
   "metadata": {},
   "outputs": [
    {
     "name": "stdout",
     "output_type": "stream",
     "text": [
      "Enter km: 52\n",
      "Miles conversion is:  32.5\n"
     ]
    }
   ],
   "source": [
    "#1.\tWrite a Python program to convert kilometers to miles?\n",
    "def kmToMilesCoverter():\n",
    "    km = float(input(\"Enter km: \"))\n",
    "    print(\"Miles conversion is: \", km/1.6)\n",
    "    \n",
    "kmToMilesCoverter()"
   ]
  },
  {
   "cell_type": "code",
   "execution_count": 2,
   "metadata": {},
   "outputs": [
    {
     "name": "stdout",
     "output_type": "stream",
     "text": [
      "Enter temperature in celsius: 35\n",
      "Temperature in fahrenheit:  95.0\n"
     ]
    }
   ],
   "source": [
    "#2.\tWrite a Python program to convert Celsius to Fahrenheit?\n",
    "def CeltoFahrenheitCoverter():\n",
    "    cel = float(input(\"Enter temperature in celsius: \"))\n",
    "    f = (cel * 9.0) / 5.0 + 32\n",
    "    print(\"Temperature in fahrenheit: \", f)\n",
    "    \n",
    "CeltoFahrenheitCoverter()"
   ]
  },
  {
   "cell_type": "code",
   "execution_count": 7,
   "metadata": {},
   "outputs": [
    {
     "name": "stdout",
     "output_type": "stream",
     "text": [
      "Enter year: 2021\n",
      "Enter month: 08\n",
      "    August 2021\n",
      "Mo Tu We Th Fr Sa Su\n",
      "                   1\n",
      " 2  3  4  5  6  7  8\n",
      " 9 10 11 12 13 14 15\n",
      "16 17 18 19 20 21 22\n",
      "23 24 25 26 27 28 29\n",
      "30 31\n",
      "\n"
     ]
    }
   ],
   "source": [
    "#3.\tWrite a Python program to display calendar?\n",
    "import calendar\n",
    "year = int(input(\"Enter year: \"))\n",
    "month = int(input(\"Enter month: \"))\n",
    "\n",
    "print(calendar.month(year,month))"
   ]
  },
  {
   "cell_type": "code",
   "execution_count": 14,
   "metadata": {},
   "outputs": [
    {
     "name": "stdout",
     "output_type": "stream",
     "text": [
      "Solution 1 and 2 are:  (-3+0j) (-2+0j)\n"
     ]
    }
   ],
   "source": [
    "#4.\tWrite a Python program to solve quadratic equation?\n",
    "import cmath\n",
    "\n",
    "def quadEq(a,b,c):\n",
    "    #(-b ± (b ** 2 - 4 * a * c) ** 0.5) / 2 * a\n",
    "    d = (b ** 2) - (4*a*c)\n",
    "    \n",
    "    sol1 = (-b - cmath.sqrt(d))/(2*a)\n",
    "    sol2 = (-b + cmath.sqrt(d))/(2*a)\n",
    "    \n",
    "    print(\"Solution 1 and 2 are: \", sol1, sol2)\n",
    "    \n",
    "quadEq(1,5,6)"
   ]
  },
  {
   "cell_type": "code",
   "execution_count": 17,
   "metadata": {},
   "outputs": [
    {
     "name": "stdout",
     "output_type": "stream",
     "text": [
      "Arguments before swapping:  3 4\n",
      "Arguments after swapping:  4 3\n",
      "Arguments before swapping:  G M\n",
      "Arguments after swapping:  M G\n"
     ]
    }
   ],
   "source": [
    "#5.\tWrite a Python program to swap two variables without temp variable?\n",
    "def stringOperations(a,b):\n",
    "    print(\"Arguments before swapping: \", a, b)\n",
    "    a, b = b, a\n",
    "    print(\"Arguments after swapping: \", a,b)\n",
    "    \n",
    "stringOperations(3,4)\n",
    "stringOperations(\"G\", \"M\")"
   ]
  },
  {
   "cell_type": "code",
   "execution_count": null,
   "metadata": {},
   "outputs": [],
   "source": []
  }
 ],
 "metadata": {
  "kernelspec": {
   "display_name": "Python 3",
   "language": "python",
   "name": "python3"
  },
  "language_info": {
   "codemirror_mode": {
    "name": "ipython",
    "version": 3
   },
   "file_extension": ".py",
   "mimetype": "text/x-python",
   "name": "python",
   "nbconvert_exporter": "python",
   "pygments_lexer": "ipython3",
   "version": "3.8.5"
  }
 },
 "nbformat": 4,
 "nbformat_minor": 4
}
