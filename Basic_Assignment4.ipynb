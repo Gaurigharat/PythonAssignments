{
 "cells": [
  {
   "cell_type": "code",
   "execution_count": 70,
   "metadata": {},
   "outputs": [
    {
     "name": "stdout",
     "output_type": "stream",
     "text": [
      "Enter number: 4\n"
     ]
    },
    {
     "data": {
      "text/plain": [
       "('Factorial of ', 4, ' is ', 24)"
      ]
     },
     "execution_count": 70,
     "metadata": {},
     "output_type": "execute_result"
    }
   ],
   "source": [
    "#1.\tWrite a Python Program to Find the Factorial of a Number?\n",
    "def findFactorial():\n",
    "    try:\n",
    "        num = int(input(\"Enter number: \"))\n",
    "        fact = 1\n",
    "        for i in range(2, num+1):\n",
    "            fact = fact * i\n",
    "        return \"Factorial of \", num , \" is \", fact\n",
    "    except Exception as e:\n",
    "        return \"Exception occured\", e\n",
    "    \n",
    "findFactorial()"
   ]
  },
  {
   "cell_type": "code",
   "execution_count": 16,
   "metadata": {},
   "outputs": [
    {
     "name": "stdout",
     "output_type": "stream",
     "text": [
      "Enter a number to display table11\n"
     ]
    },
    {
     "data": {
      "text/plain": [
       "[11, 22, 33, 44, 55, 66, 77, 88, 99, 110]"
      ]
     },
     "execution_count": 16,
     "metadata": {},
     "output_type": "execute_result"
    }
   ],
   "source": [
    "#2.\tWrite a Python Program to Display the multiplication Table\n",
    "def printMultiplication():\n",
    "    try:\n",
    "        table = []\n",
    "        num = int(input(\"Enter a number to display table\"))\n",
    "        for i in range(1,11):\n",
    "            table.append(num * i)\n",
    "        return table\n",
    "    except Exception as e:\n",
    "        return \"Exception occured\", e\n",
    "printMultiplication()     "
   ]
  },
  {
   "cell_type": "code",
   "execution_count": 31,
   "metadata": {},
   "outputs": [
    {
     "name": "stdout",
     "output_type": "stream",
     "text": [
      "Enter range to print fibonacci series: 9\n",
      "[0, 1, 1, 2, 3, 5, 8, 13, 21]\n"
     ]
    }
   ],
   "source": [
    "#3.\tWrite a Python Program to Print the Fibonacci sequence?\n",
    "def fibonacciSeries():\n",
    "    try:\n",
    "        t1 = 0\n",
    "        t2 = 1\n",
    "        s = 0\n",
    "        l2 = []\n",
    "        num = int(input(\"Enter range to print fibonacci series: \"))\n",
    "        for i in range(1, num + 1):\n",
    "            l2.append(t1)\n",
    "            s = t1 + t2\n",
    "            t1 = t2\n",
    "            t2 = s\n",
    "        print(l2)\n",
    "    except Exception as e:\n",
    "        return \"Exception occured\", e\n",
    "fibonacciSeries()"
   ]
  },
  {
   "cell_type": "code",
   "execution_count": 64,
   "metadata": {},
   "outputs": [
    {
     "name": "stdout",
     "output_type": "stream",
     "text": [
      "Enter three digit number153\n",
      "Number is an armstrong number\n"
     ]
    }
   ],
   "source": [
    "#4.\tWrite a Python Program to Check Armstrong Number?\n",
    "def isArmstrongNum():\n",
    "    try:\n",
    "        num = int(input(\"Enter three digit number\"))\n",
    "        temp = num\n",
    "        sum = 0\n",
    "        \n",
    "        while temp != 0 :\n",
    "            r = temp % 10\n",
    "            sum += r * r * r\n",
    "            temp //= 10\n",
    "            \n",
    "        if sum == num :\n",
    "            print(\"Number is an armstrong number\")\n",
    "        else:\n",
    "            print(\"Number is not an armstrong number\")\n",
    "            \n",
    "    except Exception as e:\n",
    "        return \"Exception occured\", e\n",
    "    \n",
    "isArmstrongNum()"
   ]
  },
  {
   "cell_type": "code",
   "execution_count": 66,
   "metadata": {},
   "outputs": [
    {
     "name": "stdout",
     "output_type": "stream",
     "text": [
      "Enter lower range1\n",
      "Enter higher range1000\n",
      "1\n",
      "153\n",
      "370\n",
      "371\n",
      "407\n"
     ]
    }
   ],
   "source": [
    "#5.\tWrite a Python Program to Find Armstrong Number in an Interval?\n",
    "def printArmstrongNum():\n",
    "    try:\n",
    "        lowRange = int(input(\"Enter lower range\"))\n",
    "        highRange = int(input(\"Enter higher range\"))\n",
    "    \n",
    "        for i in range(lowRange, highRange):\n",
    "            num = i\n",
    "            temp = i\n",
    "            sum = 0\n",
    "        \n",
    "            while temp != 0 :\n",
    "                r = temp % 10\n",
    "                sum += r * r * r\n",
    "                temp //= 10\n",
    "            \n",
    "            if sum == num :\n",
    "                print(sum)\n",
    "    except Exception as e:\n",
    "        return \"Exception occured\", e\n",
    "    \n",
    "printArmstrongNum()\n",
    "    "
   ]
  },
  {
   "cell_type": "code",
   "execution_count": 68,
   "metadata": {},
   "outputs": [
    {
     "name": "stdout",
     "output_type": "stream",
     "text": [
      "Enter integer value of n: 100\n",
      "5050\n"
     ]
    }
   ],
   "source": [
    "#6.\tWrite a Python Program to Find the Sum of Natural Numbers?\n",
    "def printNaturalNo():\n",
    "    try:\n",
    "        n = int(input(\"Enter integer value of n: \"))\n",
    "        \n",
    "        sum = 0\n",
    "        \n",
    "        for i in range(0, n+1):\n",
    "            #yield sum\n",
    "            sum += i\n",
    "        \n",
    "        print(sum)\n",
    "        \n",
    "        \n",
    "        \n",
    "    except Exception as e:\n",
    "        print(\"Exception occured: \", e)\n",
    "        \n",
    "printNaturalNo()"
   ]
  },
  {
   "cell_type": "code",
   "execution_count": null,
   "metadata": {},
   "outputs": [],
   "source": []
  }
 ],
 "metadata": {
  "kernelspec": {
   "display_name": "Python 3",
   "language": "python",
   "name": "python3"
  },
  "language_info": {
   "codemirror_mode": {
    "name": "ipython",
    "version": 3
   },
   "file_extension": ".py",
   "mimetype": "text/x-python",
   "name": "python",
   "nbconvert_exporter": "python",
   "pygments_lexer": "ipython3",
   "version": "3.8.5"
  }
 },
 "nbformat": 4,
 "nbformat_minor": 4
}
