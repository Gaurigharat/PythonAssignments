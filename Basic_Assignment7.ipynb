{
 "cells": [
  {
   "cell_type": "code",
   "execution_count": 2,
   "metadata": {},
   "outputs": [
    {
     "data": {
      "text/plain": [
       "15"
      ]
     },
     "execution_count": 2,
     "metadata": {},
     "output_type": "execute_result"
    }
   ],
   "source": [
    "#Write a Python Program to find sum of array?\n",
    "\n",
    "def findSumOfArray(arr):\n",
    "    result = 0\n",
    "    for i in arr:\n",
    "        result = result + i\n",
    "        \n",
    "    return result\n",
    "\n",
    "arr = [1,2,3,4,5]\n",
    "findSumOfArray(arr)"
   ]
  },
  {
   "cell_type": "code",
   "execution_count": 5,
   "metadata": {},
   "outputs": [
    {
     "data": {
      "text/plain": [
       "5"
      ]
     },
     "execution_count": 5,
     "metadata": {},
     "output_type": "execute_result"
    }
   ],
   "source": [
    "# Write a Python Program to find largest element in an array?\n",
    "\n",
    "def findMaxOfArray(arr):\n",
    "    return max(arr)\n",
    "\n",
    "arr = [1,2,3,4,5]\n",
    "findMaxOfArray(arr)"
   ]
  },
  {
   "cell_type": "code",
   "execution_count": 26,
   "metadata": {},
   "outputs": [
    {
     "name": "stdout",
     "output_type": "stream",
     "text": [
      " arr: list of elements\n",
      "    l: length of the list\n",
      "    d: elements by which to rotate \n"
     ]
    },
    {
     "data": {
      "text/plain": [
       "[4, 5, 6, 7, 8, 9, 11, 1, 2, 3]"
      ]
     },
     "execution_count": 26,
     "metadata": {},
     "output_type": "execute_result"
    }
   ],
   "source": [
    "#3.\tWrite a Python Program for array rotation?\n",
    "\n",
    "def arrayRotation(arr, l, d):\n",
    "    ''' arr: list of elements\n",
    "    l: length of the list\n",
    "    d: elements by which to rotate '''\n",
    "    \n",
    "    temp1 = arr[0:d] \n",
    "    temp2 = arr[d:l+1]\n",
    "    \n",
    "    # rotation from left\n",
    "    return temp2 + temp1\n",
    "    \n",
    "    \n",
    "\n",
    "print(arrayRotation.__doc__)\n",
    "arrayRotation([1,2,3,4,5,6,7,8,9,11], 10, 3)"
   ]
  },
  {
   "cell_type": "code",
   "execution_count": 19,
   "metadata": {},
   "outputs": [
    {
     "data": {
      "text/plain": [
       "[3, 4, 5, 6, 7, 8, 9, 1, 2]"
      ]
     },
     "execution_count": 19,
     "metadata": {},
     "output_type": "execute_result"
    }
   ],
   "source": [
    "#4.\tWrite a Python Program to Split the array and add the first part to the end?\n",
    "def arrayRotation():\n",
    "    arr = [1,2,3,4,5,6,7,8,9]\n",
    "    temp1 = arr[0:2]\n",
    "    temp2 = arr[2: len(arr)]\n",
    "    return temp2 + temp1\n",
    "\n",
    "arrayRotation()"
   ]
  },
  {
   "cell_type": "code",
   "execution_count": 35,
   "metadata": {},
   "outputs": [
    {
     "name": "stdout",
     "output_type": "stream",
     "text": [
      "Monotonic\n",
      "Monotonic\n",
      "Not monotonic\n",
      "Monotonic\n",
      "Not monotonic\n"
     ]
    }
   ],
   "source": [
    "#5.\tWrite a Python Program to check if given array is Monotonic?\n",
    "\n",
    "def isArrayMonotonic(arr):\n",
    "    \n",
    "    i = 1\n",
    "    r = 0\n",
    "    \n",
    "    #check in increasing order\n",
    "    while i < len(arr):\n",
    "        if arr[i-1] <= arr [i]:\n",
    "            r=0\n",
    "            #print(arr[i-1])\n",
    "            #print(arr[i])\n",
    "       \n",
    "        else:\n",
    "            r = 1\n",
    "            break\n",
    "        \n",
    "        i = i + 1\n",
    "     \n",
    "    #check in decreasing order\n",
    "    while i < len(arr):\n",
    "        if arr[i-1] >= arr [i]:\n",
    "            r=0\n",
    "            #print(arr[i-1])\n",
    "            #print(arr[i])\n",
    "       \n",
    "        else:\n",
    "            r = 1\n",
    "            break\n",
    "        \n",
    "        i = i + 1\n",
    "    \n",
    "    if r == 0:\n",
    "        print(\"Monotonic\")\n",
    "    elif r == 1:\n",
    "        print(\"Not monotonic\")\n",
    "        \n",
    "isArrayMonotonic([1,3,4,5,6,55])\n",
    "isArrayMonotonic([1,3,4,5])\n",
    "isArrayMonotonic([1,3,44,6,4,5])\n",
    "isArrayMonotonic([100,44,5,2])\n",
    "isArrayMonotonic([100,44,5,2, 55])\n"
   ]
  }
 ],
 "metadata": {
  "kernelspec": {
   "display_name": "Python 3",
   "language": "python",
   "name": "python3"
  },
  "language_info": {
   "codemirror_mode": {
    "name": "ipython",
    "version": 3
   },
   "file_extension": ".py",
   "mimetype": "text/x-python",
   "name": "python",
   "nbconvert_exporter": "python",
   "pygments_lexer": "ipython3",
   "version": "3.8.5"
  }
 },
 "nbformat": 4,
 "nbformat_minor": 4
}
