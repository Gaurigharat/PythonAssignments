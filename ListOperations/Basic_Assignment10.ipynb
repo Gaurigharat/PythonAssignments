{
 "cells": [
  {
   "cell_type": "code",
   "execution_count": null,
   "metadata": {},
   "outputs": [],
   "source": [
    "Python List append() Add a single element to the end of the list.\n",
    "Python List clear() Removes all Items from the List.\n",
    "Python List copy() returns a shallow copy of the list.\n",
    "Python List count() ...\n",
    "Python List extend() ...\n",
    "Python List index() ...\n",
    "Python List insert() ...\n",
    "Python List pop()"
   ]
  },
  {
   "cell_type": "code",
   "execution_count": 8,
   "metadata": {},
   "outputs": [
    {
     "data": {
      "text/plain": [
       "242"
      ]
     },
     "execution_count": 8,
     "metadata": {},
     "output_type": "execute_result"
    }
   ],
   "source": [
    "#1.\tWrite a Python program to find sum of elements in list?\n",
    "\n",
    "def sumOfListEle(l):\n",
    "    s = 0\n",
    "    for i in l:\n",
    "        s = s + i\n",
    "        \n",
    "    return s\n",
    "\n",
    "\n",
    "sumOfListEle([22,33,44,66,77])\n"
   ]
  },
  {
   "cell_type": "code",
   "execution_count": 13,
   "metadata": {},
   "outputs": [
    {
     "data": {
      "text/plain": [
       "24"
      ]
     },
     "execution_count": 13,
     "metadata": {},
     "output_type": "execute_result"
    }
   ],
   "source": [
    "#2.\tWrite a Python program to  Multiply all numbers in the list?\n",
    "\n",
    "def multiplyList(l):\n",
    "    m = 1\n",
    "    \n",
    "    for i in l:\n",
    "        m = m * i\n",
    "    \n",
    "    return m\n",
    "\n",
    "multiplyList([2,3,4])"
   ]
  },
  {
   "cell_type": "code",
   "execution_count": 22,
   "metadata": {},
   "outputs": [
    {
     "data": {
      "text/plain": [
       "0.3"
      ]
     },
     "execution_count": 22,
     "metadata": {},
     "output_type": "execute_result"
    }
   ],
   "source": [
    "#3.\tWrite a Python program to find smallest number in a list?\n",
    "\n",
    "def findMin(li):\n",
    "    li.sort()\n",
    "    return li[0]\n",
    "\n",
    "li = [33,656547,2,65,0.3,665,3535,888]\n",
    "findMin(li)"
   ]
  },
  {
   "cell_type": "code",
   "execution_count": 34,
   "metadata": {},
   "outputs": [
    {
     "data": {
      "text/plain": [
       "656547"
      ]
     },
     "execution_count": 34,
     "metadata": {},
     "output_type": "execute_result"
    }
   ],
   "source": [
    "#4.\tWrite a Python program to find largest number in a list?\n",
    "\n",
    "def findMax(li):\n",
    "    li.sort()\n",
    "    #print(len(li))\n",
    "    return li[len(li) - 1]\n",
    "\n",
    "li = [33,656547,2,65,0.3,665,3535,888]\n",
    "findMax(li)"
   ]
  },
  {
   "cell_type": "code",
   "execution_count": 37,
   "metadata": {},
   "outputs": [
    {
     "name": "stdout",
     "output_type": "stream",
     "text": [
      "[0.3, 2, 33, 65, 665, 888, 3535, 656547]\n"
     ]
    },
    {
     "data": {
      "text/plain": [
       "3535"
      ]
     },
     "execution_count": 37,
     "metadata": {},
     "output_type": "execute_result"
    }
   ],
   "source": [
    "#5.\tWrite a Python program to find second largest number in a list?\n",
    "def findSecMax(li):\n",
    "    li.sort()\n",
    "    #print(li)\n",
    "    #print(len(li))\n",
    "    return li[len(li) - 2]\n",
    "\n",
    "li = [33,656547,2,65,0.3,665,3535,888]\n",
    "findSecMax(li)"
   ]
  },
  {
   "cell_type": "code",
   "execution_count": 40,
   "metadata": {},
   "outputs": [
    {
     "name": "stdout",
     "output_type": "stream",
     "text": [
      "[2, 11, 54, 66, 232, 274, 432, 662, 879, 3232, 469235, 666666, 15645673]\n"
     ]
    },
    {
     "data": {
      "text/plain": [
       "3232"
      ]
     },
     "execution_count": 40,
     "metadata": {},
     "output_type": "execute_result"
    }
   ],
   "source": [
    "#6.\tWrite a Python program to find N largest elements from a list?\n",
    "\n",
    "def findNMaxNo(li, n):\n",
    "    li.sort()\n",
    "    print(li)\n",
    "    return li[len(li) - n]\n",
    "\n",
    "li = [432,54,66,232,666666,3232,879,2,274,662,11,469235,15645673]\n",
    "findNMaxNo(li, 4)"
   ]
  },
  {
   "cell_type": "code",
   "execution_count": 47,
   "metadata": {},
   "outputs": [
    {
     "data": {
      "text/plain": [
       "[66, 2646, 75762, 65654, 765544, 0]"
      ]
     },
     "execution_count": 47,
     "metadata": {},
     "output_type": "execute_result"
    }
   ],
   "source": [
    "#7.\tWrite a Python program to print even numbers in a list?\n",
    "\n",
    "def printEvenNo(li):\n",
    "    evenList = []\n",
    "    \n",
    "    for i in li:\n",
    "        if i %2 == 0 or i == 0:\n",
    "            evenList.append(i)\n",
    "            \n",
    "    return evenList\n",
    "\n",
    "printEvenNo([23.343,55,66,74365,997685,2646,8865,25457,75762,65654,98987,765544, 0])"
   ]
  },
  {
   "cell_type": "code",
   "execution_count": 48,
   "metadata": {},
   "outputs": [
    {
     "data": {
      "text/plain": [
       "[23.343, 55, 74365, 997685, 8865, 25457, 98987]"
      ]
     },
     "execution_count": 48,
     "metadata": {},
     "output_type": "execute_result"
    }
   ],
   "source": [
    "#8.\tWrite a Python program to print odd numbers in a List?\n",
    "\n",
    "def printOddNo(li):\n",
    "    oddList = []\n",
    "    \n",
    "    for i in li:\n",
    "        if i % 2 != 0:\n",
    "            oddList.append(i)\n",
    "    return oddList\n",
    "\n",
    "printOddNo([23.343,55,66,74365,997685,2646,8865,25457,75762,65654,98987,765544, 0])"
   ]
  },
  {
   "cell_type": "code",
   "execution_count": 53,
   "metadata": {},
   "outputs": [
    {
     "data": {
      "text/plain": [
       "[[2, 3, 4, 5, 5], ['d', 'ffs', 'fd', 'fs'], [0]]"
      ]
     },
     "execution_count": 53,
     "metadata": {},
     "output_type": "execute_result"
    }
   ],
   "source": [
    "#9.\tWrite a Python program to Remove empty List from List?\n",
    "\n",
    "def cleanListOfEmpty(li): \n",
    "    for i in li:\n",
    "        if type(i) == list:\n",
    "            if len(i) == 0:\n",
    "                li.remove(i)\n",
    "                \n",
    "    return li\n",
    "\n",
    "\n",
    "cleanListOfEmpty([[2,3,4,5,5], [], [\"d\",\"ffs\", \"fd\", \"fs\"], [], [0]])     "
   ]
  },
  {
   "cell_type": "code",
   "execution_count": 55,
   "metadata": {},
   "outputs": [
    {
     "name": "stdout",
     "output_type": "stream",
     "text": [
      "Original list:  [2, 3, 4, 5, 6]\n",
      "Copied list:  [2, 3, 4, 5, 6]\n"
     ]
    }
   ],
   "source": [
    "#10.\tWrite a Python program to Cloning or Copying a list?\n",
    "\n",
    "def listCopy(li):\n",
    "    temp = li\n",
    "    print(\"Original list: \", li)\n",
    "    print(\"Copied list: \", temp)\n",
    "    \n",
    "\n",
    "listCopy([2,3,4,5,6])"
   ]
  },
  {
   "cell_type": "code",
   "execution_count": 71,
   "metadata": {},
   "outputs": [
    {
     "name": "stdout",
     "output_type": "stream",
     "text": [
      "Ocurrence of element 4 is 1 times\n"
     ]
    }
   ],
   "source": [
    "#11.\tWrite a Python program to Count occurrences of an element in a list?\n",
    "\n",
    "def countOccurence(li, ele):\n",
    "    #i = 0\n",
    "    count = 0\n",
    "    for i in li:\n",
    "        if i == ele:\n",
    "            count = count + 1\n",
    "    #i = i + 1\n",
    "    \n",
    "    print(\"Ocurrence of element \"+ str(ele) + \" is \" + str(count) + \" times\")\n",
    "\n",
    "countOccurence([3,4,344,3,443,22,45,2,3,56,77], 4)"
   ]
  },
  {
   "cell_type": "code",
   "execution_count": null,
   "metadata": {},
   "outputs": [],
   "source": []
  }
 ],
 "metadata": {
  "kernelspec": {
   "display_name": "Python 3",
   "language": "python",
   "name": "python3"
  },
  "language_info": {
   "codemirror_mode": {
    "name": "ipython",
    "version": 3
   },
   "file_extension": ".py",
   "mimetype": "text/x-python",
   "name": "python",
   "nbconvert_exporter": "python",
   "pygments_lexer": "ipython3",
   "version": "3.8.5"
  }
 },
 "nbformat": 4,
 "nbformat_minor": 4
}
